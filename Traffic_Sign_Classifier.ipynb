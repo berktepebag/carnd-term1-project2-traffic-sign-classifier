{
 "cells": [
  {
   "cell_type": "markdown",
   "metadata": {},
   "source": [
    "# Self-Driving Car Engineer Nanodegree\n",
    "\n",
    "## Deep Learning\n",
    "\n",
    "## Project: Build a Traffic Sign Recognition Classifier\n",
    "\n",
    "In this notebook, a template is provided for you to implement your functionality in stages, which is required to successfully complete this project. If additional code is required that cannot be included in the notebook, be sure that the Python code is successfully imported and included in your submission if necessary. \n",
    "\n",
    "> **Note**: Once you have completed all of the code implementations, you need to finalize your work by exporting the iPython Notebook as an HTML document. Before exporting the notebook to html, all of the code cells need to have been run so that reviewers can see the final implementation and output. You can then export the notebook by using the menu above and navigating to  \\n\",\n",
    "    \"**File -> Download as -> HTML (.html)**. Include the finished document along with this notebook as your submission. \n",
    "\n",
    "In addition to implementing code, there is a writeup to complete. The writeup should be completed in a separate file, which can be either a markdown file or a pdf document. There is a [write up template](https://github.com/udacity/CarND-Traffic-Sign-Classifier-Project/blob/master/writeup_template.md) that can be used to guide the writing process. Completing the code template and writeup template will cover all of the [rubric points](https://review.udacity.com/#!/rubrics/481/view) for this project.\n",
    "\n",
    "The [rubric](https://review.udacity.com/#!/rubrics/481/view) contains \"Stand Out Suggestions\" for enhancing the project beyond the minimum requirements. The stand out suggestions are optional. If you decide to pursue the \"stand out suggestions\", you can include the code in this Ipython notebook and also discuss the results in the writeup file.\n",
    "\n",
    "\n",
    ">**Note:** Code and Markdown cells can be executed using the **Shift + Enter** keyboard shortcut. In addition, Markdown cells can be edited by typically double-clicking the cell to enter edit mode."
   ]
  },
  {
   "cell_type": "markdown",
   "metadata": {},
   "source": [
    "---\n",
    "## Step 0: Load The Data"
   ]
  },
  {
   "cell_type": "code",
   "execution_count": 1,
   "metadata": {},
   "outputs": [],
   "source": [
    "# Load pickled data\n",
    "import pickle\n",
    "\n",
    "# TODO: Fill this in based on where you saved the training and testing data\n",
    "\n",
    "training_file = \"./traffic-signs-data/train.p\"\n",
    "validation_file= \"./traffic-signs-data/valid.p\"\n",
    "testing_file = \"./traffic-signs-data/test.p\"\n",
    "\n",
    "with open(training_file, mode='rb') as f:\n",
    "    train = pickle.load(f)\n",
    "with open(validation_file, mode='rb') as f:\n",
    "    valid = pickle.load(f)\n",
    "with open(testing_file, mode='rb') as f:\n",
    "    test = pickle.load(f)\n",
    "    \n",
    "X_train, y_train = train['features'], train['labels']\n",
    "X_valid, y_valid = valid['features'], valid['labels']\n",
    "X_test, y_test = test['features'], test['labels']"
   ]
  },
  {
   "cell_type": "markdown",
   "metadata": {},
   "source": [
    "---\n",
    "\n",
    "## Step 1: Dataset Summary & Exploration\n",
    "\n",
    "The pickled data is a dictionary with 4 key/value pairs:\n",
    "\n",
    "- `'features'` is a 4D array containing raw pixel data of the traffic sign images, (num examples, width, height, channels).\n",
    "- `'labels'` is a 1D array containing the label/class id of the traffic sign. The file `signnames.csv` contains id -> name mappings for each id.\n",
    "- `'sizes'` is a list containing tuples, (width, height) representing the original width and height the image.\n",
    "- `'coords'` is a list containing tuples, (x1, y1, x2, y2) representing coordinates of a bounding box around the sign in the image. **THESE COORDINATES ASSUME THE ORIGINAL IMAGE. THE PICKLED DATA CONTAINS RESIZED VERSIONS (32 by 32) OF THESE IMAGES**\n",
    "\n",
    "Complete the basic data summary below. Use python, numpy and/or pandas methods to calculate the data summary rather than hard coding the results. For example, the [pandas shape method](http://pandas.pydata.org/pandas-docs/stable/generated/pandas.DataFrame.shape.html) might be useful for calculating some of the summary results. "
   ]
  },
  {
   "cell_type": "markdown",
   "metadata": {},
   "source": [
    "### Provide a Basic Summary of the Data Set Using Python, Numpy and/or Pandas"
   ]
  },
  {
   "cell_type": "code",
   "execution_count": 2,
   "metadata": {},
   "outputs": [
    {
     "name": "stdout",
     "output_type": "stream",
     "text": [
      "Number of training examples = 34799\n",
      "Number of testing examples = 12630\n",
      "Image data shape = (32, 32, 3)\n",
      "Number of classes = 43\n"
     ]
    }
   ],
   "source": [
    "### Replace each question mark with the appropriate value. \n",
    "### Use python, pandas or numpy methods rather than hard coding the results\n",
    "\n",
    "# TODO: Number of training examples\n",
    "n_train = len(X_train)\n",
    "\n",
    "# TODO: Number of validation examples\n",
    "n_validation = len(X_valid)\n",
    "\n",
    "# TODO: Number of testing examples.\n",
    "n_test = len(X_test)\n",
    "\n",
    "# TODO: What's the shape of an traffic sign image?\n",
    "image_shape = X_train[0].shape\n",
    "\n",
    "# TODO: How many unique classes/labels there are in the dataset.\n",
    "n_classes = len(set(y_train))\n",
    "\n",
    "print(\"Number of training examples =\", n_train)\n",
    "print(\"Number of testing examples =\", n_test)\n",
    "print(\"Image data shape =\", image_shape)\n",
    "print(\"Number of classes =\", n_classes)"
   ]
  },
  {
   "cell_type": "markdown",
   "metadata": {},
   "source": [
    "### Include an exploratory visualization of the dataset"
   ]
  },
  {
   "cell_type": "markdown",
   "metadata": {},
   "source": [
    "Visualize the German Traffic Signs Dataset using the pickled file(s). This is open ended, suggestions include: plotting traffic sign images, plotting the count of each sign, etc. \n",
    "\n",
    "The [Matplotlib](http://matplotlib.org/) [examples](http://matplotlib.org/examples/index.html) and [gallery](http://matplotlib.org/gallery.html) pages are a great resource for doing visualizations in Python.\n",
    "\n",
    "**NOTE:** It's recommended you start with something simple first. If you wish to do more, come back to it after you've completed the rest of the sections. It can be interesting to look at the distribution of classes in the training, validation and test set. Is the distribution the same? Are there more examples of some classes than others?"
   ]
  },
  {
   "cell_type": "code",
   "execution_count": 3,
   "metadata": {},
   "outputs": [
    {
     "name": "stdout",
     "output_type": "stream",
     "text": [
      "30\n"
     ]
    },
    {
     "data": {
      "image/png": "[encoded data removed]",
      "text/plain": [
       "<matplotlib.figure.Figure at 0x62c0438>"
      ]
     },
     "metadata": {},
     "output_type": "display_data"
    }
   ],
   "source": [
    "### Data exploration visualization code goes here.\n",
    "### Feel free to use as many code cells as needed.\n",
    "import matplotlib.pyplot as plt\n",
    "import numpy as np\n",
    "import random\n",
    "# Visualizations will be shown in the notebook.\n",
    "%matplotlib inline\n",
    "\n",
    "index = random.randint(0,len(X_train))\n",
    "image=X_train[index].squeeze()\n",
    "\n",
    "plt.figure(figsize=(3,3))\n",
    "plt.imshow(image)\n",
    "print(y_train[index])"
   ]
  },
  {
   "cell_type": "markdown",
   "metadata": {},
   "source": [
    "----\n",
    "\n",
    "## Step 2: Design and Test a Model Architecture\n",
    "\n",
    "Design and implement a deep learning model that learns to recognize traffic signs. Train and test your model on the [German Traffic Sign Dataset](http://benchmark.ini.rub.de/?section=gtsrb&subsection=dataset).\n",
    "\n",
    "The LeNet-5 implementation shown in the [classroom](https://classroom.udacity.com/nanodegrees/nd013/parts/fbf77062-5703-404e-b60c-95b78b2f3f9e/modules/6df7ae49-c61c-4bb2-a23e-6527e69209ec/lessons/601ae704-1035-4287-8b11-e2c2716217ad/concepts/d4aca031-508f-4e0b-b493-e7b706120f81) at the end of the CNN lesson is a solid starting point. You'll have to change the number of classes and possibly the preprocessing, but aside from that it's plug and play! \n",
    "\n",
    "With the LeNet-5 solution from the lecture, you should expect a validation set accuracy of about 0.89. To meet specifications, the validation set accuracy will need to be at least 0.93. It is possible to get an even higher accuracy, but 0.93 is the minimum for a successful project submission. \n",
    "\n",
    "There are various aspects to consider when thinking about this problem:\n",
    "\n",
    "- Neural network architecture (is the network over or underfitting?)\n",
    "- Play around preprocessing techniques (normalization, rgb to grayscale, etc)\n",
    "- Number of examples per label (some have more than others).\n",
    "- Generate fake data.\n",
    "\n",
    "Here is an example of a [published baseline model on this problem](http://yann.lecun.com/exdb/publis/pdf/sermanet-ijcnn-11.pdf). It's not required to be familiar with the approach used in the paper but, it's good practice to try to read papers like these."
   ]
  },
  {
   "cell_type": "markdown",
   "metadata": {},
   "source": [
    "### Pre-process the Data Set (normalization, grayscale, etc.)"
   ]
  },
  {
   "cell_type": "markdown",
   "metadata": {},
   "source": [
    "Minimally, the image data should be normalized so that the data has mean zero and equal variance. For image data, `(pixel - 128)/ 128` is a quick way to approximately normalize the data and can be used in this project. \n",
    "\n",
    "Other pre-processing steps are optional. You can try different techniques to see if it improves performance. \n",
    "\n",
    "Use the code cell (or multiple code cells, if necessary) to implement the first step of your project."
   ]
  },
  {
   "cell_type": "code",
   "execution_count": 4,
   "metadata": {
    "collapsed": true,
    "scrolled": true
   },
   "outputs": [],
   "source": [
    "### Preprocess the data here. It is required to normalize the data. Other preprocessing steps could include \n",
    "### converting to grayscale, etc.\n",
    "### Feel free to use as many code cells as needed.\n",
    "\n",
    "X_train_gray=np.sum(X_train/3,axis=3,keepdims=True)\n",
    "X_valid_gray=np.sum(X_valid/3,axis=3,keepdims=True)\n",
    "X_test_gray=np.sum(X_test/3,axis=3,keepdims=True)\n",
    "\n",
    "X_train_normal=(X_train_gray-128)/128\n",
    "X_test_normal=(X_test_gray-128)/128\n",
    "X_valid_normal=(X_valid_gray-128)/128\n",
    "\n",
    "#print(\"X_train: {0}, X_Valid: {1}, X_Test: {2}\".format(X_train_normal[0:10],X_test_normal[0:10],X_valid_normal[0:10]))\n",
    "\n",
    "#Shuffle The Training Data\n",
    "from sklearn.utils import shuffle\n",
    "\n",
    "X_train_normal, y_train = shuffle(X_train_normal,y_train)"
   ]
  },
  {
   "cell_type": "code",
   "execution_count": 5,
   "metadata": {
    "collapsed": true
   },
   "outputs": [],
   "source": [
    "import tensorflow as tf\n",
    "\n",
    "x = tf.placeholder(tf.float32, (None, 32, 32, 1))\n",
    "y = tf.placeholder(tf.int32, (None))\n",
    "one_hot_y = tf.one_hot(y, 43)"
   ]
  },
  {
   "cell_type": "markdown",
   "metadata": {},
   "source": [
    "### Model Architecture"
   ]
  },
  {
   "cell_type": "code",
   "execution_count": 6,
   "metadata": {
    "collapsed": true,
    "scrolled": false
   },
   "outputs": [],
   "source": [
    "### Define your architecture here.\n",
    "### Feel free to use as many code cells as needed.\n",
    "\n",
    "import numpy as np\n",
    "#from tensorflow.contrib.layers import flatten\n",
    "\n",
    "config = tf.ConfigProto()\n",
    "config.gpu_options.allow_growth = True\n",
    "#config.gpu_options.allocator_type = 'BFC'\n",
    "\n",
    "EPOCHS = 100\n",
    "BATCH_SIZE = 128\n",
    "\n",
    "mu = 0\n",
    "sigma = 0.1\n",
    "#x=X_train_normal.astype(np.float32, copy=False)\n",
    "\n",
    "# TODO: Layer 1: Convolutional. Input = 32x32x1. Output = 28x28x6.\n",
    "W_C1=tf.Variable(tf.truncated_normal((5,5,1,6),mean=mu,stddev=sigma))\n",
    "b_C1=tf.Variable(tf.zeros(6))\n",
    "conv1=tf.nn.conv2d(x,W_C1,strides=[1,1,1,1],padding='VALID')\n",
    "conv1=tf.nn.bias_add(conv1,b_C1)\n",
    "\n",
    "# TODO: Activation.\n",
    "conv1=tf.nn.relu(conv1)\n",
    "\n",
    "# TODO: Pooling. Input = 28x28x6. Output = 14x14x6.\n",
    "#conv1=tf.nn.max_pool(conv1,ksize=[1,2,2,1],strides=[1,2,2,1],padding='VALID')\n",
    "\n",
    "# TODO: Layer 2: Convolutional. Output = 24x24x16.\n",
    "W_C2=tf.Variable(tf.truncated_normal((5,5,6,16),mean=mu,stddev=sigma))\n",
    "b_C2=tf.Variable(tf.zeros(16))\n",
    "conv2=tf.nn.conv2d(conv1,W_C2,strides=[1,1,1,1],padding='VALID')\n",
    "conv2=tf.nn.bias_add(conv2,b_C2)    \n",
    "\n",
    "# TODO: Activation.\n",
    "conv2=tf.nn.relu(conv2)\n",
    "\n",
    "# TODO: Pooling. Input = 24x24x16. Output = 12x12x16.\n",
    "conv2=tf.nn.max_pool(conv2,ksize=[1,2,2,1],strides=[1,2,2,1],padding='VALID')\n",
    "\n",
    "# TODO: Layer 3: Convolutional. Output = 11x11x32.\n",
    "W_C3=tf.Variable(tf.truncated_normal((2,2,16,32),mean=mu,stddev=sigma))\n",
    "b_C3=tf.Variable(tf.zeros(32))\n",
    "conv3=tf.nn.conv2d(conv2,W_C3,strides=[1,1,1,1],padding='VALID')\n",
    "conv3=tf.nn.bias_add(conv3,b_C3)    \n",
    "\n",
    "# TODO: Activation.\n",
    "conv3=tf.nn.relu(conv3)\n",
    "\n",
    "# TODO: Layer 4: Convolutional. Output = 5x5x64.\n",
    "W_C4=tf.Variable(tf.truncated_normal((3,3,32,64),mean=mu,stddev=sigma))\n",
    "b_C4=tf.Variable(tf.zeros(64))\n",
    "conv4=tf.nn.conv2d(conv3,W_C4,strides=[1,2,2,1],padding='VALID')\n",
    "conv4=tf.nn.bias_add(conv4,b_C4)    \n",
    "\n",
    "# TODO: Activation.\n",
    "conv4=tf.nn.relu(conv4)\n",
    "\n",
    "# TODO: Pooling. Input = 5x5x64. Output = 4x4x64\n",
    "conv4=tf.nn.max_pool(conv4,ksize=[1,2,2,1],strides=[1,1,1,1],padding='VALID')\n",
    "# TODO: Flatten. Input = 4x4x64. Output = 1024.\n",
    "flatten=tf.contrib.layers.flatten(conv4)    \n",
    "\n",
    "# TODO: Layer 3: Fully Connected. Input = 1024. Output = 512.\n",
    "w_d1=tf.Variable(tf.truncated_normal([1024,512],mean=mu,stddev=sigma))\n",
    "b_d1=tf.Variable(tf.zeros(512))\n",
    "#fully1 = tf.reshape(flatten,[-1,w_d1.get_shape().as_list()[0]])\n",
    "fully1=tf.add(tf.matmul(flatten,w_d1),b_d1)\n",
    "\n",
    "# TODO: Activation.\n",
    "fully1=tf.nn.relu(fully1)\n",
    "\n",
    "# TODO: Layer 4: Fully Connected. Input = 512. Output = 256.\n",
    "w_d2=tf.Variable(tf.truncated_normal([512,256],mean=mu,stddev=sigma))\n",
    "b_d2=tf.Variable(tf.zeros(256))\n",
    "#fully2 = tf.reshape(fully1,[-1,w_d2.get_shape().as_list()[0]])\n",
    "fully2=tf.add(tf.matmul(fully1,w_d2),b_d2)\n",
    "\n",
    "# TODO: Activation.\n",
    "fully2=tf.nn.relu(fully2)\n",
    "\n",
    "# TODO: Layer 5: Fully Connected. Input = 256. Output = 128.\n",
    "w_d3=tf.Variable(tf.truncated_normal([256,128],mean=mu,stddev=sigma))\n",
    "b_d3=tf.Variable(tf.zeros(128))\n",
    "#fully2 = tf.reshape(fully1,[-1,w_d2.get_shape().as_list()[0]])\n",
    "fully3=tf.add(tf.matmul(fully2,w_d3),b_d3)\n",
    "\n",
    "# TODO: Activation.\n",
    "fully3=tf.nn.relu(fully3)\n",
    "\n",
    "# TODO: Layer 5: Fully Connected. Input = 128. Output = 43.\n",
    "w_out= tf.Variable(tf.truncated_normal([128,n_classes],mean=mu,stddev=sigma))\n",
    "b_out=tf.Variable(tf.zeros(n_classes))\n",
    "logits=tf.add(tf.matmul(fully3,w_out),b_out)"
   ]
  },
  {
   "cell_type": "markdown",
   "metadata": {},
   "source": [
    "### Train, Validate and Test the Model"
   ]
  },
  {
   "cell_type": "markdown",
   "metadata": {},
   "source": [
    "A validation set can be used to assess how well the model is performing. A low accuracy on the training and validation\n",
    "sets imply underfitting. A high accuracy on the training set but low accuracy on the validation set implies overfitting."
   ]
  },
  {
   "cell_type": "code",
   "execution_count": 16,
   "metadata": {
    "scrolled": true
   },
   "outputs": [],
   "source": [
    "### Calculate and report the accuracy on the training and validation set.\n",
    "### Once a final model architecture is selected, \n",
    "### the accuracy on the test set should be calculated and reported as well.\n",
    "### Feel free to use as many code cells as needed.\n",
    "\n",
    "\n",
    "learn_rate=0.0001\n",
    "\n",
    "cross_entropy=tf.nn.softmax_cross_entropy_with_logits(labels=one_hot_y,logits=logits)\n",
    "loss=tf.reduce_mean(cross_entropy)\n",
    "optimizer=tf.train.AdamOptimizer(learning_rate=learn_rate)\n",
    "training=optimizer.minimize(loss)\n",
    "\n",
    "correct_prediction = tf.equal(tf.argmax(logits, 1), tf.argmax(one_hot_y, 1))\n",
    "accuracy_operation = tf.reduce_mean(tf.cast(correct_prediction, tf.float32))\n",
    "saver = tf.train.Saver()\n",
    "\n",
    "def evaluate(X_data, y_data):\n",
    "    num_examples = len(X_data)\n",
    "    print(\"num expamles: {}\".format(num_examples))\n",
    "    total_accuracy = 0\n",
    "    sess = tf.get_default_session()    \n",
    "    for offset in range(0, num_examples, BATCH_SIZE):\n",
    "        batch_x, batch_y = X_data[offset:offset+BATCH_SIZE], y_data[offset:offset+BATCH_SIZE]\n",
    "        accuracy = sess.run(accuracy_operation, feed_dict={x: batch_x, y: batch_y})\n",
    "        total_accuracy += (accuracy * len(batch_x))\n",
    "    return total_accuracy / num_examples"
   ]
  },
  {
   "cell_type": "code",
   "execution_count": 18,
   "metadata": {},
   "outputs": [
    {
     "name": "stdout",
     "output_type": "stream",
     "text": [
      "Training...\n",
      "\n",
      "num expamles: 4410\n",
      "EPOCH 1 ...\n",
      "Validation Accuracy = 0.430\n",
      "\n",
      "num expamles: 4410\n",
      "EPOCH 2 ...\n",
      "Validation Accuracy = 0.762\n",
      "\n",
      "num expamles: 4410\n",
      "EPOCH 3 ...\n",
      "Validation Accuracy = 0.808\n",
      "\n",
      "num expamles: 4410\n",
      "EPOCH 4 ...\n",
      "Validation Accuracy = 0.845\n",
      "\n",
      "num expamles: 4410\n",
      "EPOCH 5 ...\n",
      "Validation Accuracy = 0.862\n",
      "\n",
      "num expamles: 4410\n",
      "EPOCH 6 ...\n",
      "Validation Accuracy = 0.877\n",
      "\n",
      "num expamles: 4410\n",
      "EPOCH 7 ...\n",
      "Validation Accuracy = 0.862\n",
      "\n",
      "num expamles: 4410\n",
      "EPOCH 8 ...\n",
      "Validation Accuracy = 0.886\n",
      "\n",
      "num expamles: 4410\n",
      "EPOCH 9 ...\n",
      "Validation Accuracy = 0.888\n",
      "\n",
      "num expamles: 4410\n",
      "EPOCH 10 ...\n",
      "Validation Accuracy = 0.878\n",
      "\n",
      "num expamles: 4410\n",
      "EPOCH 11 ...\n",
      "Validation Accuracy = 0.904\n",
      "\n",
      "num expamles: 4410\n",
      "EPOCH 12 ...\n",
      "Validation Accuracy = 0.895\n",
      "\n",
      "num expamles: 4410\n",
      "EPOCH 13 ...\n",
      "Validation Accuracy = 0.900\n",
      "\n",
      "num expamles: 4410\n",
      "EPOCH 14 ...\n",
      "Validation Accuracy = 0.909\n",
      "\n",
      "num expamles: 4410\n",
      "EPOCH 15 ...\n",
      "Validation Accuracy = 0.906\n",
      "\n",
      "num expamles: 4410\n",
      "EPOCH 16 ...\n",
      "Validation Accuracy = 0.914\n",
      "\n",
      "num expamles: 4410\n",
      "EPOCH 17 ...\n",
      "Validation Accuracy = 0.908\n",
      "\n",
      "num expamles: 4410\n",
      "EPOCH 18 ...\n",
      "Validation Accuracy = 0.899\n",
      "\n",
      "num expamles: 4410\n",
      "EPOCH 19 ...\n",
      "Validation Accuracy = 0.905\n",
      "\n",
      "num expamles: 4410\n",
      "EPOCH 20 ...\n",
      "Validation Accuracy = 0.910\n",
      "\n",
      "num expamles: 4410\n",
      "EPOCH 21 ...\n",
      "Validation Accuracy = 0.902\n",
      "\n",
      "num expamles: 4410\n",
      "EPOCH 22 ...\n",
      "Validation Accuracy = 0.916\n",
      "\n",
      "num expamles: 4410\n",
      "EPOCH 23 ...\n",
      "Validation Accuracy = 0.904\n",
      "\n",
      "num expamles: 4410\n",
      "EPOCH 24 ...\n",
      "Validation Accuracy = 0.905\n",
      "\n",
      "num expamles: 4410\n",
      "EPOCH 25 ...\n",
      "Validation Accuracy = 0.905\n",
      "\n",
      "num expamles: 4410\n",
      "EPOCH 26 ...\n",
      "Validation Accuracy = 0.916\n",
      "\n",
      "num expamles: 4410\n",
      "EPOCH 27 ...\n",
      "Validation Accuracy = 0.923\n",
      "\n",
      "num expamles: 4410\n",
      "EPOCH 28 ...\n",
      "Validation Accuracy = 0.909\n",
      "\n",
      "num expamles: 4410\n",
      "EPOCH 29 ...\n",
      "Validation Accuracy = 0.901\n",
      "\n",
      "num expamles: 4410\n",
      "EPOCH 30 ...\n",
      "Validation Accuracy = 0.912\n",
      "\n",
      "num expamles: 4410\n",
      "EPOCH 31 ...\n",
      "Validation Accuracy = 0.910\n",
      "\n",
      "num expamles: 4410\n",
      "EPOCH 32 ...\n",
      "Validation Accuracy = 0.922\n",
      "\n",
      "num expamles: 4410\n",
      "EPOCH 33 ...\n",
      "Validation Accuracy = 0.925\n",
      "\n",
      "num expamles: 4410\n",
      "EPOCH 34 ...\n",
      "Validation Accuracy = 0.906\n",
      "\n",
      "num expamles: 4410\n",
      "EPOCH 35 ...\n",
      "Validation Accuracy = 0.913\n",
      "\n",
      "num expamles: 4410\n",
      "EPOCH 36 ...\n",
      "Validation Accuracy = 0.924\n",
      "\n",
      "num expamles: 4410\n",
      "EPOCH 37 ...\n",
      "Validation Accuracy = 0.929\n",
      "\n",
      "num expamles: 4410\n",
      "EPOCH 38 ...\n",
      "Validation Accuracy = 0.923\n",
      "\n",
      "num expamles: 4410\n",
      "EPOCH 39 ...\n",
      "Validation Accuracy = 0.926\n",
      "\n",
      "num expamles: 4410\n",
      "EPOCH 40 ...\n",
      "Validation Accuracy = 0.924\n",
      "\n",
      "num expamles: 4410\n",
      "EPOCH 41 ...\n",
      "Validation Accuracy = 0.925\n",
      "\n",
      "num expamles: 4410\n",
      "EPOCH 42 ...\n",
      "Validation Accuracy = 0.926\n",
      "\n",
      "num expamles: 4410\n",
      "EPOCH 43 ...\n",
      "Validation Accuracy = 0.924\n",
      "\n",
      "num expamles: 4410\n",
      "EPOCH 44 ...\n",
      "Validation Accuracy = 0.869\n",
      "\n",
      "num expamles: 4410\n",
      "EPOCH 45 ...\n",
      "Validation Accuracy = 0.926\n",
      "\n",
      "num expamles: 4410\n",
      "EPOCH 46 ...\n",
      "Validation Accuracy = 0.923\n",
      "\n",
      "num expamles: 4410\n",
      "EPOCH 47 ...\n",
      "Validation Accuracy = 0.924\n",
      "\n",
      "num expamles: 4410\n",
      "EPOCH 48 ...\n",
      "Validation Accuracy = 0.927\n",
      "\n",
      "num expamles: 4410\n",
      "EPOCH 49 ...\n",
      "Validation Accuracy = 0.926\n",
      "\n",
      "num expamles: 4410\n",
      "EPOCH 50 ...\n",
      "Validation Accuracy = 0.924\n",
      "\n",
      "num expamles: 4410\n",
      "EPOCH 51 ...\n",
      "Validation Accuracy = 0.926\n",
      "\n",
      "num expamles: 4410\n",
      "EPOCH 52 ...\n",
      "Validation Accuracy = 0.924\n",
      "\n",
      "num expamles: 4410\n",
      "EPOCH 53 ...\n",
      "Validation Accuracy = 0.927\n",
      "\n",
      "num expamles: 4410\n",
      "EPOCH 54 ...\n",
      "Validation Accuracy = 0.925\n",
      "\n",
      "num expamles: 4410\n",
      "EPOCH 55 ...\n",
      "Validation Accuracy = 0.926\n",
      "\n",
      "num expamles: 4410\n",
      "EPOCH 56 ...\n",
      "Validation Accuracy = 0.924\n",
      "\n",
      "num expamles: 4410\n",
      "EPOCH 57 ...\n",
      "Validation Accuracy = 0.924\n",
      "\n",
      "num expamles: 4410\n",
      "EPOCH 58 ...\n",
      "Validation Accuracy = 0.926\n",
      "\n",
      "num expamles: 4410\n",
      "EPOCH 59 ...\n",
      "Validation Accuracy = 0.928\n",
      "\n",
      "num expamles: 4410\n",
      "EPOCH 60 ...\n",
      "Validation Accuracy = 0.928\n",
      "\n",
      "num expamles: 4410\n",
      "EPOCH 61 ...\n",
      "Validation Accuracy = 0.933\n",
      "\n",
      "num expamles: 4410\n",
      "EPOCH 62 ...\n",
      "Validation Accuracy = 0.931\n",
      "\n",
      "num expamles: 4410\n",
      "EPOCH 63 ...\n",
      "Validation Accuracy = 0.933\n",
      "\n",
      "num expamles: 4410\n",
      "EPOCH 64 ...\n",
      "Validation Accuracy = 0.930\n",
      "\n",
      "num expamles: 4410\n",
      "EPOCH 65 ...\n",
      "Validation Accuracy = 0.931\n",
      "\n",
      "num expamles: 4410\n",
      "EPOCH 66 ...\n",
      "Validation Accuracy = 0.930\n",
      "\n",
      "num expamles: 4410\n",
      "EPOCH 67 ...\n",
      "Validation Accuracy = 0.932\n",
      "\n",
      "num expamles: 4410\n",
      "EPOCH 68 ...\n",
      "Validation Accuracy = 0.930\n",
      "\n",
      "num expamles: 4410\n",
      "EPOCH 69 ...\n",
      "Validation Accuracy = 0.932\n",
      "\n",
      "num expamles: 4410\n",
      "EPOCH 70 ...\n",
      "Validation Accuracy = 0.930\n",
      "\n",
      "num expamles: 4410\n",
      "EPOCH 71 ...\n",
      "Validation Accuracy = 0.930\n",
      "\n",
      "num expamles: 4410\n",
      "EPOCH 72 ...\n",
      "Validation Accuracy = 0.931\n",
      "\n",
      "num expamles: 4410\n",
      "EPOCH 73 ...\n",
      "Validation Accuracy = 0.930\n",
      "\n",
      "num expamles: 4410\n",
      "EPOCH 74 ...\n",
      "Validation Accuracy = 0.929\n",
      "\n",
      "num expamles: 4410\n",
      "EPOCH 75 ...\n",
      "Validation Accuracy = 0.931\n",
      "\n",
      "num expamles: 4410\n",
      "EPOCH 76 ...\n",
      "Validation Accuracy = 0.929\n",
      "\n",
      "num expamles: 4410\n",
      "EPOCH 77 ...\n",
      "Validation Accuracy = 0.929\n",
      "\n",
      "num expamles: 4410\n",
      "EPOCH 78 ...\n",
      "Validation Accuracy = 0.929\n",
      "\n",
      "num expamles: 4410\n",
      "EPOCH 79 ...\n",
      "Validation Accuracy = 0.928\n",
      "\n",
      "num expamles: 4410\n",
      "EPOCH 80 ...\n",
      "Validation Accuracy = 0.894\n",
      "\n",
      "num expamles: 4410\n",
      "EPOCH 81 ...\n",
      "Validation Accuracy = 0.935\n",
      "\n",
      "num expamles: 4410\n",
      "EPOCH 82 ...\n",
      "Validation Accuracy = 0.930\n",
      "\n",
      "num expamles: 4410\n",
      "EPOCH 83 ...\n",
      "Validation Accuracy = 0.936\n",
      "\n",
      "num expamles: 4410\n",
      "EPOCH 84 ...\n",
      "Validation Accuracy = 0.931\n",
      "\n",
      "num expamles: 4410\n",
      "EPOCH 85 ...\n",
      "Validation Accuracy = 0.929\n",
      "\n",
      "num expamles: 4410\n",
      "EPOCH 86 ...\n",
      "Validation Accuracy = 0.931\n",
      "\n",
      "num expamles: 4410\n",
      "EPOCH 87 ...\n",
      "Validation Accuracy = 0.931\n",
      "\n",
      "num expamles: 4410\n",
      "EPOCH 88 ...\n",
      "Validation Accuracy = 0.929\n",
      "\n",
      "num expamles: 4410\n",
      "EPOCH 89 ...\n",
      "Validation Accuracy = 0.929\n",
      "\n",
      "num expamles: 4410\n",
      "EPOCH 90 ...\n",
      "Validation Accuracy = 0.929\n",
      "\n",
      "num expamles: 4410\n",
      "EPOCH 91 ...\n",
      "Validation Accuracy = 0.931\n",
      "\n",
      "num expamles: 4410\n",
      "EPOCH 92 ...\n",
      "Validation Accuracy = 0.930\n",
      "\n",
      "num expamles: 4410\n",
      "EPOCH 93 ...\n",
      "Validation Accuracy = 0.931\n",
      "\n",
      "num expamles: 4410\n",
      "EPOCH 94 ...\n",
      "Validation Accuracy = 0.930\n",
      "\n",
      "num expamles: 4410\n",
      "EPOCH 95 ...\n",
      "Validation Accuracy = 0.930\n",
      "\n",
      "num expamles: 4410\n",
      "EPOCH 96 ...\n",
      "Validation Accuracy = 0.932\n",
      "\n",
      "num expamles: 4410\n",
      "EPOCH 97 ...\n",
      "Validation Accuracy = 0.931\n",
      "\n",
      "num expamles: 4410\n",
      "EPOCH 98 ...\n",
      "Validation Accuracy = 0.931\n",
      "\n",
      "num expamles: 4410\n",
      "EPOCH 99 ...\n",
      "Validation Accuracy = 0.931\n",
      "\n",
      "num expamles: 4410\n",
      "EPOCH 100 ...\n",
      "Validation Accuracy = 0.931\n",
      "\n",
      "Model saved\n"
     ]
    }
   ],
   "source": [
    "### Train your model here.\n",
    "#Care, dont startover...\n",
    "\n",
    "\n",
    "with tf.Session(config=config) as sess:\n",
    "#with tf.Session() as sess:\n",
    "    sess.run(tf.global_variables_initializer())\n",
    "    num_examples=len(X_train_normal)\n",
    "    \n",
    "    print(\"Training...\")\n",
    "    print()\n",
    "    for i in range(EPOCHS):\n",
    "        X_train_normal,y_train=shuffle(X_train_normal,y_train)        \n",
    "        for offset in range (0,num_examples,BATCH_SIZE):\n",
    "            end = offset + BATCH_SIZE\n",
    "            batch_x, batch_y = X_train_normal[offset:end],y_train[offset:end]\n",
    "            sess.run(training,feed_dict={x: batch_x, y: batch_y})\n",
    "            \n",
    "        validation_accuracy=evaluate(X_valid_normal,y_valid)\n",
    "        print(\"EPOCH {} ...\".format(i+1))\n",
    "        print(\"Validation Accuracy = {:.3f}\".format(validation_accuracy))\n",
    "        print()\n",
    "        \n",
    "    saver.save(sess, './lenet')\n",
    "    print(\"Model saved\")"
   ]
  },
  {
   "cell_type": "code",
   "execution_count": 67,
   "metadata": {},
   "outputs": [
    {
     "name": "stdout",
     "output_type": "stream",
     "text": [
      "INFO:tensorflow:Restoring parameters from .\\lenet\n",
      "num expamles: 12630\n",
      "Test Accuracy = 0.918\n"
     ]
    }
   ],
   "source": [
    "#Calculate and report the accuracy on the test set.\n",
    "with tf.Session() as sess:\n",
    "    saver.restore(sess, tf.train.latest_checkpoint('.'))\n",
    "    \n",
    "    test_accuracy = evaluate(X_test_normal, y_test)\n",
    "    print(\"Test Accuracy = {:.3f}\".format(test_accuracy))"
   ]
  },
  {
   "cell_type": "markdown",
   "metadata": {},
   "source": [
    "---\n",
    "\n",
    "## Step 3: Test a Model on New Images\n",
    "\n",
    "To give yourself more insight into how your model is working, download at least five pictures of German traffic signs from the web and use your model to predict the traffic sign type.\n",
    "\n",
    "You may find `signnames.csv` useful as it contains mappings from the class id (integer) to the actual sign name."
   ]
  },
  {
   "cell_type": "markdown",
   "metadata": {},
   "source": [
    "### Load and Output the Images"
   ]
  },
  {
   "cell_type": "code",
   "execution_count": 9,
   "metadata": {
    "scrolled": true
   },
   "outputs": [
    {
     "data": {
      "text/plain": [
       "<matplotlib.figure.Figure at 0x29ae1518>"
      ]
     },
     "metadata": {},
     "output_type": "display_data"
    },
    {
     "data": {
      "image/png": "[encoded data removed]",
      "text/plain": [
       "<matplotlib.figure.Figure at 0x2a080e48>"
      ]
     },
     "metadata": {},
     "output_type": "display_data"
    },
    {
     "name": "stdout",
     "output_type": "stream",
     "text": [
      "Label ID: 22\n"
     ]
    },
    {
     "data": {
      "text/plain": [
       "<matplotlib.figure.Figure at 0x2a08cf60>"
      ]
     },
     "metadata": {},
     "output_type": "display_data"
    },
    {
     "data": {
      "image/png": "[encoded data removed]",
      "text/plain": [
       "<matplotlib.figure.Figure at 0x2a053208>"
      ]
     },
     "metadata": {},
     "output_type": "display_data"
    },
    {
     "name": "stdout",
     "output_type": "stream",
     "text": [
      "Label ID: 17\n"
     ]
    },
    {
     "data": {
      "text/plain": [
       "<matplotlib.figure.Figure at 0x2aa6d6a0>"
      ]
     },
     "metadata": {},
     "output_type": "display_data"
    },
    {
     "data": {
      "image/png": "[encoded data removed]",
      "text/plain": [
       "<matplotlib.figure.Figure at 0x2a0594a8>"
      ]
     },
     "metadata": {},
     "output_type": "display_data"
    },
    {
     "name": "stdout",
     "output_type": "stream",
     "text": [
      "Label ID: 4\n"
     ]
    },
    {
     "data": {
      "text/plain": [
       "<matplotlib.figure.Figure at 0x29fca9b0>"
      ]
     },
     "metadata": {},
     "output_type": "display_data"
    },
    {
     "data": {
      "image/png": "[encoded data removed]",
      "text/plain": [
       "<matplotlib.figure.Figure at 0x29fa9668>"
      ]
     },
     "metadata": {},
     "output_type": "display_data"
    },
    {
     "name": "stdout",
     "output_type": "stream",
     "text": [
      "Label ID: 20\n"
     ]
    },
    {
     "data": {
      "text/plain": [
       "<matplotlib.figure.Figure at 0x2a7d1be0>"
      ]
     },
     "metadata": {},
     "output_type": "display_data"
    },
    {
     "data": {
      "image/png": "[encoded data removed]",
      "text/plain": [
       "<matplotlib.figure.Figure at 0x2a7b1dd8>"
      ]
     },
     "metadata": {},
     "output_type": "display_data"
    },
    {
     "name": "stdout",
     "output_type": "stream",
     "text": [
      "Label ID: 40\n"
     ]
    },
    {
     "data": {
      "text/plain": [
       "<matplotlib.figure.Figure at 0x29e7c160>"
      ]
     },
     "metadata": {},
     "output_type": "display_data"
    },
    {
     "data": {
      "image/png": "[encoded data removed]",
      "text/plain": [
       "<matplotlib.figure.Figure at 0x29e6dc50>"
      ]
     },
     "metadata": {},
     "output_type": "display_data"
    },
    {
     "name": "stdout",
     "output_type": "stream",
     "text": [
      "Label ID: 27\n"
     ]
    },
    {
     "data": {
      "text/plain": [
       "<matplotlib.figure.Figure at 0x7466cc0>"
      ]
     },
     "metadata": {},
     "output_type": "display_data"
    },
    {
     "data": {
      "image/png": "[encoded data removed]",
      "text/plain": [
       "<matplotlib.figure.Figure at 0x29d009b0>"
      ]
     },
     "metadata": {},
     "output_type": "display_data"
    },
    {
     "name": "stdout",
     "output_type": "stream",
     "text": [
      "Label ID: 28\n"
     ]
    }
   ],
   "source": [
    "### Load the images and plot them here.\n",
    "### Feel free to use as many code cells as needed.\n",
    "import glob\n",
    "\n",
    "image_list = []\n",
    "label_list=[22,17,4,20,40,27,28]\n",
    "\n",
    "\n",
    "for i,filename in zip(range(0,len(label_list)),glob.glob('images/*.jpg')):\n",
    "    #print(filename) #check file names\n",
    "    internet_image=plt.imread(filename)\n",
    "    #print(image) #check image shape\n",
    "    fig = plt.figure()\n",
    "    plt.figure(figsize=(1,1))\n",
    "    plt.imshow(internet_image)\n",
    "    plt.show()\n",
    "    #fig.text(.1,.1,str(label_list[i]))\n",
    "    print(\"Label ID: {}\".format(label_list[i]))\n",
    "    \n",
    "    #turn into gray and normalize\n",
    "    internet_image=np.sum(internet_image/3,axis=2,keepdims=True)\n",
    "    internet_image=(internet_image-128)/128\n",
    "    \n",
    "    image_list.append(internet_image)       \n",
    "    \n",
    "#print(image_list) #check image list"
   ]
  },
  {
   "cell_type": "markdown",
   "metadata": {},
   "source": [
    "### Predict the Sign Type for Each Image"
   ]
  },
  {
   "cell_type": "code",
   "execution_count": 37,
   "metadata": {},
   "outputs": [
    {
     "name": "stdout",
     "output_type": "stream",
     "text": [
      "INFO:tensorflow:Restoring parameters from .\\lenet\n",
      "num expamles: 7\n",
      "Image No 1 Accuracy: 1.0\n",
      "Image No 2 Accuracy: 1.0\n",
      "Image No 3 Accuracy: 0.0\n",
      "Image No 4 Accuracy: 0.0\n",
      "Image No 5 Accuracy: 0.0\n",
      "Image No 6 Accuracy: 0.0\n",
      "Image No 7 Accuracy: 1.0\n"
     ]
    }
   ],
   "source": [
    "### Run the predictions here and use the model to output the prediction for each image.\n",
    "### Make sure to pre-process the images with the same pre-processing pipeline used earlier.\n",
    "### Feel free to use as many code cells as needed.\n",
    "import tensorflow as tf\n",
    "\n",
    "def evaluate2(X_data, y_data):\n",
    "    \n",
    "    BATCH_SIZE=1\n",
    "    \n",
    "    num_examples = len(X_data)\n",
    "    print(\"num expamles: {}\".format(num_examples))\n",
    "    total_accuracy = 0\n",
    "    sess = tf.get_default_session() \n",
    "    img_no=1\n",
    "    for offset in range(0, num_examples, BATCH_SIZE):\n",
    "        batch_x, batch_y = X_data[offset:offset+BATCH_SIZE], y_data[offset:offset+BATCH_SIZE]\n",
    "        accuracy = sess.run(accuracy_operation, feed_dict={x: batch_x, y: batch_y})\n",
    "        #total_accuracy += (accuracy * len(batch_x))\n",
    "        print(\"Image No {0} Accuracy: {1}\".format(img_no,accuracy))     \n",
    "        img_no+=1\n",
    "    return accuracy\n",
    "\n",
    "with tf.Session() as sess:\n",
    "    saver.restore(sess, tf.train.latest_checkpoint('.'))  \n",
    "    test_accuracy = evaluate2(image_list, label_list)\n",
    "    "
   ]
  },
  {
   "cell_type": "markdown",
   "metadata": {},
   "source": [
    "### Analyze Performance"
   ]
  },
  {
   "cell_type": "code",
   "execution_count": 60,
   "metadata": {},
   "outputs": [
    {
     "name": "stdout",
     "output_type": "stream",
     "text": [
      "INFO:tensorflow:Restoring parameters from .\\lenet\n",
      "num expamles: 7\n",
      "Test Accuracy = 0.429\n"
     ]
    }
   ],
   "source": [
    "### Calculate the accuracy for these 5 new images. \n",
    "### For example, if the model predicted 1 out of 5 signs correctly, it's 20% accurate on these new images.\n",
    "\n",
    "with tf.Session() as sess:\n",
    "    saver.restore(sess, tf.train.latest_checkpoint('.'))\n",
    "    \n",
    "    test_accuracy = evaluate(image_list, label_list)\n",
    "    print(\"Test Accuracy = {:.3f}\".format(test_accuracy))"
   ]
  },
  {
   "cell_type": "markdown",
   "metadata": {},
   "source": [
    "### Output Top 5 Softmax Probabilities For Each Image Found on the Web"
   ]
  },
  {
   "cell_type": "markdown",
   "metadata": {},
   "source": [
    "For each of the new images, print out the model's softmax probabilities to show the **certainty** of the model's predictions (limit the output to the top 5 probabilities for each image). [`tf.nn.top_k`](https://www.tensorflow.org/versions/r0.12/api_docs/python/nn.html#top_k) could prove helpful here. \n",
    "\n",
    "The example below demonstrates how tf.nn.top_k can be used to find the top k predictions for each image.\n",
    "\n",
    "`tf.nn.top_k` will return the values and indices (class ids) of the top k predictions. So if k=3, for each sign, it'll return the 3 largest probabilities (out of a possible 43) and the correspoding class ids.\n",
    "\n",
    "Take this numpy array as an example. The values in the array represent predictions. The array contains softmax probabilities for five candidate images with six possible classes. `tk.nn.top_k` is used to choose the three classes with the highest probability:\n",
    "\n",
    "```\n",
    "# (5, 6) array\n",
    "a = np.array([[ 0.24879643,  0.07032244,  0.12641572,  0.34763842,  0.07893497,\n",
    "         0.12789202],\n",
    "       [ 0.28086119,  0.27569815,  0.08594638,  0.0178669 ,  0.18063401,\n",
    "         0.15899337],\n",
    "       [ 0.26076848,  0.23664738,  0.08020603,  0.07001922,  0.1134371 ,\n",
    "         0.23892179],\n",
    "       [ 0.11943333,  0.29198961,  0.02605103,  0.26234032,  0.1351348 ,\n",
    "         0.16505091],\n",
    "       [ 0.09561176,  0.34396535,  0.0643941 ,  0.16240774,  0.24206137,\n",
    "         0.09155967]])\n",
    "```\n",
    "\n",
    "Running it through `sess.run(tf.nn.top_k(tf.constant(a), k=3))` produces:\n",
    "\n",
    "```\n",
    "TopKV2(values=array([[ 0.34763842,  0.24879643,  0.12789202],\n",
    "       [ 0.28086119,  0.27569815,  0.18063401],\n",
    "       [ 0.26076848,  0.23892179,  0.23664738],\n",
    "       [ 0.29198961,  0.26234032,  0.16505091],\n",
    "       [ 0.34396535,  0.24206137,  0.16240774]]), indices=array([[3, 0, 5],\n",
    "       [0, 1, 4],\n",
    "       [0, 5, 1],\n",
    "       [1, 3, 5],\n",
    "       [1, 4, 3]], dtype=int32))\n",
    "```\n",
    "\n",
    "Looking just at the first row we get `[ 0.34763842,  0.24879643,  0.12789202]`, you can confirm these are the 3 largest probabilities in `a`. You'll also notice `[3, 0, 5]` are the corresponding indices."
   ]
  },
  {
   "cell_type": "code",
   "execution_count": 65,
   "metadata": {
    "scrolled": false
   },
   "outputs": [
    {
     "name": "stdout",
     "output_type": "stream",
     "text": [
      "INFO:tensorflow:Restoring parameters from .\\lenet\n",
      "Image ID: [[22 29 25 28 24]\n",
      " [17  9 34 33 14]\n",
      " [ 1 24  0 38 40]\n",
      " [33  3 32 35 42]\n",
      " [12 40 11 28 38]\n",
      " [18 27 24 26 29]\n",
      " [28 29 30 35 36]] Probability: [[  1.00000000e+00   1.18827614e-09   2.20850858e-13   5.51253243e-14\n",
      "    2.67323069e-15]\n",
      " [  1.00000000e+00   2.69979826e-27   3.43321287e-32   9.58993344e-33\n",
      "    3.90578790e-33]\n",
      " [  9.99994040e-01   5.63482581e-06   3.04771845e-07   6.51248477e-09\n",
      "    1.87912641e-09]\n",
      " [  9.75378931e-01   2.45001018e-02   4.41000702e-05   3.74738920e-05\n",
      "    2.67712439e-05]\n",
      " [  1.00000000e+00   1.15141834e-16   9.04314293e-31   8.31188764e-31\n",
      "    5.52404859e-36]\n",
      " [  9.90618169e-01   9.07343812e-03   3.08504386e-04   1.66209727e-10\n",
      "    6.13331955e-11]\n",
      " [  9.99879956e-01   1.19975724e-04   1.90357152e-08   3.29593103e-10\n",
      "    1.73694628e-10]]\n"
     ]
    }
   ],
   "source": [
    "### Print out the top five softmax probabilities for the predictions on the German traffic sign images found on the web. \n",
    "### Feel free to use as many code cells as needed.\n",
    "\n",
    "top_n_predictions=5\n",
    "\n",
    "with tf.Session() as sess:\n",
    "    saver.restore(sess, tf.train.latest_checkpoint('.'))\n",
    "    \n",
    "    softmax = sess.run(tf.nn.softmax(logits),feed_dict={x: image_list})\n",
    "    \n",
    "    top5 = sess.run(tf.nn.top_k(tf.constant(softmax),top_n_predictions))   \n",
    "    print(\"Image ID: {1} Probability: {0}\".format(top5[0],top5[1])) \n",
    "    "
   ]
  },
  {
   "cell_type": "markdown",
   "metadata": {},
   "source": [
    "### Project Writeup\n",
    "\n",
    "Once you have completed the code implementation, document your results in a project writeup using this [template](https://github.com/udacity/CarND-Traffic-Sign-Classifier-Project/blob/master/writeup_template.md) as a guide. The writeup can be in a markdown or pdf file. "
   ]
  },
  {
   "cell_type": "markdown",
   "metadata": {},
   "source": [
    "> **Note**: Once you have completed all of the code implementations and successfully answered each question above, you may finalize your work by exporting the iPython Notebook as an HTML document. You can do this by using the menu above and navigating to  \\n\",\n",
    "    \"**File -> Download as -> HTML (.html)**. Include the finished document along with this notebook as your submission."
   ]
  },
  {
   "cell_type": "markdown",
   "metadata": {},
   "source": [
    "---\n",
    "\n",
    "## Step 4 (Optional): Visualize the Neural Network's State with Test Images\n",
    "\n",
    " This Section is not required to complete but acts as an additional excersise for understaning the output of a neural network's weights. While neural networks can be a great learning device they are often referred to as a black box. We can understand what the weights of a neural network look like better by plotting their feature maps. After successfully training your neural network you can see what it's feature maps look like by plotting the output of the network's weight layers in response to a test stimuli image. From these plotted feature maps, it's possible to see what characteristics of an image the network finds interesting. For a sign, maybe the inner network feature maps react with high activation to the sign's boundary outline or to the contrast in the sign's painted symbol.\n",
    "\n",
    " Provided for you below is the function code that allows you to get the visualization output of any tensorflow weight layer you want. The inputs to the function should be a stimuli image, one used during training or a new one you provided, and then the tensorflow variable name that represents the layer's state during the training process, for instance if you wanted to see what the [LeNet lab's](https://classroom.udacity.com/nanodegrees/nd013/parts/fbf77062-5703-404e-b60c-95b78b2f3f9e/modules/6df7ae49-c61c-4bb2-a23e-6527e69209ec/lessons/601ae704-1035-4287-8b11-e2c2716217ad/concepts/d4aca031-508f-4e0b-b493-e7b706120f81) feature maps looked like for it's second convolutional layer you could enter conv2 as the tf_activation variable.\n",
    "\n",
    "For an example of what feature map outputs look like, check out NVIDIA's results in their paper [End-to-End Deep Learning for Self-Driving Cars](https://devblogs.nvidia.com/parallelforall/deep-learning-self-driving-cars/) in the section Visualization of internal CNN State. NVIDIA was able to show that their network's inner weights had high activations to road boundary lines by comparing feature maps from an image with a clear path to one without. Try experimenting with a similar test to show that your trained network's weights are looking for interesting features, whether it's looking at differences in feature maps from images with or without a sign, or even what feature maps look like in a trained network vs a completely untrained one on the same sign image.\n",
    "\n",
    "<figure>\n",
    " <img src=\"visualize_cnn.png\" width=\"380\" alt=\"Combined Image\" />\n",
    " <figcaption>\n",
    " <p></p> \n",
    " <p style=\"text-align: center;\"> Your output should look something like this (above)</p> \n",
    " </figcaption>\n",
    "</figure>\n",
    " <p></p> \n"
   ]
  },
  {
   "cell_type": "code",
   "execution_count": 13,
   "metadata": {
    "collapsed": true
   },
   "outputs": [],
   "source": [
    "### Visualize your network's feature maps here.\n",
    "### Feel free to use as many code cells as needed.\n",
    "\n",
    "# image_input: the test image being fed into the network to produce the feature maps\n",
    "# tf_activation: should be a tf variable name used during your training procedure that represents the calculated state of a specific weight layer\n",
    "# activation_min/max: can be used to view the activation contrast in more detail, by default matplot sets min and max to the actual min and max values of the output\n",
    "# plt_num: used to plot out multiple different weight feature map sets on the same block, just extend the plt number for each new feature map entry\n",
    "\n",
    "def outputFeatureMap(image_input, tf_activation, activation_min=-1, activation_max=-1 ,plt_num=1):\n",
    "    # Here make sure to preprocess your image_input in a way your network expects\n",
    "    # with size, normalization, ect if needed\n",
    "    # image_input =\n",
    "    # Note: x should be the same name as your network's tensorflow data placeholder variable\n",
    "    # If you get an error tf_activation is not defined it may be having trouble accessing the variable from inside a function\n",
    "    activation = tf_activation.eval(session=sess,feed_dict={x : image_input})\n",
    "    featuremaps = activation.shape[3]\n",
    "    plt.figure(plt_num, figsize=(15,15))\n",
    "    for featuremap in range(featuremaps):\n",
    "        plt.subplot(6,8, featuremap+1) # sets the number of feature maps to show on each row and column\n",
    "        plt.title('FeatureMap ' + str(featuremap)) # displays the feature map number\n",
    "        if activation_min != -1 & activation_max != -1:\n",
    "            plt.imshow(activation[0,:,:, featuremap], interpolation=\"nearest\", vmin =activation_min, vmax=activation_max, cmap=\"gray\")\n",
    "        elif activation_max != -1:\n",
    "            plt.imshow(activation[0,:,:, featuremap], interpolation=\"nearest\", vmax=activation_max, cmap=\"gray\")\n",
    "        elif activation_min !=-1:\n",
    "            plt.imshow(activation[0,:,:, featuremap], interpolation=\"nearest\", vmin=activation_min, cmap=\"gray\")\n",
    "        else:\n",
    "            plt.imshow(activation[0,:,:, featuremap], interpolation=\"nearest\", cmap=\"gray\")"
   ]
  }
 ],
 "metadata": {
  "anaconda-cloud": {},
  "kernelspec": {
   "display_name": "Python 3",
   "language": "python",
   "name": "python3"
  },
  "language_info": {
   "codemirror_mode": {
    "name": "ipython",
    "version": 3
   },
   "file_extension": ".py",
   "mimetype": "text/x-python",
   "name": "python",
   "nbconvert_exporter": "python",
   "pygments_lexer": "ipython3",
   "version": "3.5.2"
  },
  "widgets": {
   "state": {},
   "version": "1.1.2"
  }
 },
 "nbformat": 4,
 "nbformat_minor": 1
}
